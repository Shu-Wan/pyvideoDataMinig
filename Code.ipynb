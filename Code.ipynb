{
 "cells": [
  {
   "cell_type": "markdown",
   "metadata": {},
   "source": [
    "# A Preliminary Data Mining on [*Pyvideo*](http://www.pyvideo.org/)"
   ]
  },
  {
   "cell_type": "markdown",
   "metadata": {},
   "source": [
    "## Introduction to Pyvideo"
   ]
  },
  {
   "cell_type": "markdown",
   "metadata": {},
   "source": [
    "**__Pyvideo__** is a video index website provides **Python** related videos. It has more than 3000 videos so far. Sadly, this site is going to [*close down at some point this year*](http://bluesock.org/~willkg/blog/pyvideo/status_20160316.html)"
   ]
  },
  {
   "cell_type": "code",
   "execution_count": 1,
   "metadata": {
    "collapsed": false
   },
   "outputs": [
    {
     "data": {
      "text/html": [
       "<iframe src=http://www.pyvideo.org width=800 height=350></iframe>"
      ],
      "text/plain": [
       "<IPython.core.display.HTML object>"
      ]
     },
     "execution_count": 1,
     "metadata": {},
     "output_type": "execute_result"
    }
   ],
   "source": [
    "from IPython.core.display import HTML\n",
    "HTML(\"<iframe src=http://www.pyvideo.org width=800 height=350></iframe>\")"
   ]
  },
  {
   "cell_type": "markdown",
   "metadata": {},
   "source": [
    "## Site Stats"
   ]
  },
  {
   "cell_type": "code",
   "execution_count": 2,
   "metadata": {
    "collapsed": false
   },
   "outputs": [
    {
     "name": "stderr",
     "output_type": "stream",
     "text": [
      "/Users/Shu/anaconda/envs/python3/lib/python3.5/site-packages/matplotlib/__init__.py:872: UserWarning: axes.color_cycle is deprecated and replaced with axes.prop_cycle; please use the latter.\n",
      "  warnings.warn(self.msg_depr % (key, alt_key))\n"
     ]
    }
   ],
   "source": [
    "import os\n",
    "import json\n",
    "from pprint import pprint\n",
    "import pandas as pd\n",
    "import numpy as np\n",
    "from collections import Counter\n",
    "import matplotlib.pyplot as plt"
   ]
  },
  {
   "cell_type": "code",
   "execution_count": 3,
   "metadata": {
    "collapsed": true
   },
   "outputs": [],
   "source": [
    "%matplotlib inline"
   ]
  },
  {
   "cell_type": "code",
   "execution_count": 4,
   "metadata": {
    "collapsed": false
   },
   "outputs": [],
   "source": [
    "folders = os.listdir(\"./data/\")"
   ]
  },
  {
   "cell_type": "code",
   "execution_count": 5,
   "metadata": {
    "collapsed": false
   },
   "outputs": [],
   "source": [
    "folders = folders[2:]"
   ]
  },
  {
   "cell_type": "code",
   "execution_count": 6,
   "metadata": {
    "collapsed": false
   },
   "outputs": [],
   "source": [
    "videopath = []\n",
    "for i in range(len(folders)):\n",
    "    a = \"./data/\" + folders[i] + \"/videos/\" \n",
    "    for j in range(len(os.listdir(path=a))):\n",
    "        videopath.append(a + os.listdir(path=a)[j])"
   ]
  },
  {
   "cell_type": "markdown",
   "metadata": {},
   "source": [
    "Have a look at the path "
   ]
  },
  {
   "cell_type": "code",
   "execution_count": 7,
   "metadata": {
    "collapsed": false
   },
   "outputs": [
    {
     "data": {
      "text/plain": [
       "['./data/bostonpy/videos/boston-python-meetup--how-to-test-the-hard-stuff.json',\n",
       " './data/bostonpy/videos/boston-python-meetup--testing--where-do-i-start.json',\n",
       " './data/chicago-djangonauts/videos/consuming-tasks-with-celery.json',\n",
       " './data/chicago-djangonauts/videos/django-based-autocompl.json',\n",
       " './data/chicago-djangonauts/videos/django-nonrel-intro-and-state.json']"
      ]
     },
     "execution_count": 7,
     "metadata": {},
     "output_type": "execute_result"
    }
   ],
   "source": [
    "videopath[:5]"
   ]
  },
  {
   "cell_type": "code",
   "execution_count": 8,
   "metadata": {
    "collapsed": false
   },
   "outputs": [
    {
     "data": {
      "text/plain": [
       "3587"
      ]
     },
     "execution_count": 8,
     "metadata": {},
     "output_type": "execute_result"
    }
   ],
   "source": [
    "# How many videos are indexed?\n",
    "len(videopath)"
   ]
  },
  {
   "cell_type": "markdown",
   "metadata": {},
   "source": [
    "Have a look at the content of one json file"
   ]
  },
  {
   "cell_type": "code",
   "execution_count": 9,
   "metadata": {
    "collapsed": false,
    "scrolled": false
   },
   "outputs": [
    {
     "name": "stdout",
     "output_type": "stream",
     "text": [
      "{'category': 'Boston Python Meetup',\n",
      " 'copyright_text': '',\n",
      " 'description': 'Testing, Where Do I Start?\\n'\n",
      "                '\\n'\n",
      "                'Presented by Marshall Weir\\n'\n",
      "                '\\n'\n",
      "                'Marshall will cover basic unit test concepts and quickly move '\n",
      "                'to making your\\n'\n",
      "                'tests motivating, easy to run and adding testing to an '\n",
      "                \"existing project. He's\\n\"\n",
      "                'aiming squarely at developers who have projects they want to '\n",
      "                'use testing for,\\n'\n",
      "                \"but don't know where to get started.\\n\"\n",
      "                '\\n'\n",
      "                \"Have you wanted to become test-infected but couldn't find the \"\n",
      "                'start of the\\n'\n",
      "                'thread to pull? Marshall will help.\\n'\n",
      "                '\\n'\n",
      "                'Boston Python Meetup, May 2010\\n'\n",
      "                '\\n',\n",
      " 'duration': None,\n",
      " 'id': 592,\n",
      " 'language': 'English',\n",
      " 'quality_notes': '',\n",
      " 'recorded': None,\n",
      " 'slug': 'boston-python-meetup--testing--where-do-i-start',\n",
      " 'source_url': 'http://vimeo.com/11963043',\n",
      " 'speakers': ['Marshall Weir'],\n",
      " 'summary': '',\n",
      " 'tags': ['bostonpy', 'session', 'testing', 'unittest'],\n",
      " 'thumbnail_url': None,\n",
      " 'title': 'Boston Python Meetup: Testing: Where do I start?',\n",
      " 'videos': []}\n"
     ]
    }
   ],
   "source": [
    "with open(videopath[1]) as json_data:\n",
    "    d = json.load(json_data)\n",
    "pprint(d)"
   ]
  },
  {
   "cell_type": "markdown",
   "metadata": {},
   "source": [
    "From the result above, the json file is in a dictionary format. We are only interested in \"title\", \"description\" and \"source_url\". We will extract these keys' value and store into lists."
   ]
  },
  {
   "cell_type": "code",
   "execution_count": 10,
   "metadata": {
    "collapsed": false
   },
   "outputs": [
    {
     "data": {
      "text/plain": [
       "'bostonpy, session, testing, unittest'"
      ]
     },
     "execution_count": 10,
     "metadata": {},
     "output_type": "execute_result"
    }
   ],
   "source": [
    "with open(videopath[1]) as json_data:\n",
    "    d = json.load(json_data)[\"tags\"]\n",
    "\", \".join(d)"
   ]
  },
  {
   "cell_type": "code",
   "execution_count": 11,
   "metadata": {
    "collapsed": true
   },
   "outputs": [],
   "source": [
    "# Extract key from JSON file and convert to string\n",
    "def extractkeys(key):\n",
    "    keylist = []\n",
    "    if key in [\"speakers\", \"tags\"]:\n",
    "        for i in range(len(videopath)):\n",
    "            with open(videopath[i]) as  json_data:\n",
    "                keylist.append(\", \".join(json.load(json_data)[key]))\n",
    "    else:\n",
    "        for i in range(len(videopath)):\n",
    "            with open(videopath[i]) as json_data:\n",
    "                keylist.append(json.load(json_data)[key])\n",
    "    return pd.Series(keylist, name = key.capitalize())"
   ]
  },
  {
   "cell_type": "code",
   "execution_count": 12,
   "metadata": {
    "collapsed": false
   },
   "outputs": [],
   "source": [
    "video = pd.concat([extractkeys(\"title\"),extractkeys(\"recorded\"),extractkeys(\"description\"),extractkeys(\"speakers\")\n",
    "                   ,extractkeys(\"tags\"),extractkeys(\"category\"),extractkeys(\"source_url\"),],axis = 1)"
   ]
  },
  {
   "cell_type": "code",
   "execution_count": 13,
   "metadata": {
    "collapsed": true
   },
   "outputs": [],
   "source": [
    "# Convert Recorded value to datetime type\n",
    "from datetime import datetime\n",
    "for i in range(len(video)):\n",
    "    if video[\"Recorded\"][i] != None:\n",
    "        video[\"Recorded\"][i] == datetime.strptime(video[\"Recorded\"][i], \"%Y-%m-%d\")"
   ]
  },
  {
   "cell_type": "code",
   "execution_count": 14,
   "metadata": {
    "collapsed": false,
    "scrolled": true
   },
   "outputs": [
    {
     "data": {
      "text/html": [
       "<div>\n",
       "<table border=\"1\" class=\"dataframe\">\n",
       "  <thead>\n",
       "    <tr style=\"text-align: right;\">\n",
       "      <th></th>\n",
       "      <th>Title</th>\n",
       "      <th>Recorded</th>\n",
       "      <th>Description</th>\n",
       "      <th>Speakers</th>\n",
       "      <th>Tags</th>\n",
       "      <th>Category</th>\n",
       "      <th>Source_url</th>\n",
       "    </tr>\n",
       "  </thead>\n",
       "  <tbody>\n",
       "    <tr>\n",
       "      <th>0</th>\n",
       "      <td>Boston Python Meetup: How to test the hard stuff</td>\n",
       "      <td>None</td>\n",
       "      <td>How to Test the Hard Stuff\\n\\nPresented by Ste...</td>\n",
       "      <td>Stephan Richter</td>\n",
       "      <td>bostonpy, session, testing, unittest</td>\n",
       "      <td>Boston Python Meetup</td>\n",
       "      <td>http://vimeo.com/11980200</td>\n",
       "    </tr>\n",
       "    <tr>\n",
       "      <th>1</th>\n",
       "      <td>Boston Python Meetup: Testing: Where do I start?</td>\n",
       "      <td>None</td>\n",
       "      <td>Testing, Where Do I Start?\\n\\nPresented by Mar...</td>\n",
       "      <td>Marshall Weir</td>\n",
       "      <td>bostonpy, session, testing, unittest</td>\n",
       "      <td>Boston Python Meetup</td>\n",
       "      <td>http://vimeo.com/11963043</td>\n",
       "    </tr>\n",
       "    <tr>\n",
       "      <th>2</th>\n",
       "      <td>Consuming Tasks with Celery</td>\n",
       "      <td>2012-02-02</td>\n",
       "      <td></td>\n",
       "      <td>Joe Jasinski</td>\n",
       "      <td>RabbitMQ Celery</td>\n",
       "      <td>Chicago Djangonauts</td>\n",
       "      <td>http://youtu.be/MCmNGmFh6wE</td>\n",
       "    </tr>\n",
       "    <tr>\n",
       "      <th>3</th>\n",
       "      <td>Django Based Autocompl…</td>\n",
       "      <td>2015-09-03</td>\n",
       "      <td>Django does not do autocomplete out of the box...</td>\n",
       "      <td>Jonathan Bisson</td>\n",
       "      <td>autocomplete, Django</td>\n",
       "      <td>Chicago Djangonauts</td>\n",
       "      <td>http://youtu.be/XMp-wzzMsls</td>\n",
       "    </tr>\n",
       "    <tr>\n",
       "      <th>4</th>\n",
       "      <td>Django-nonrel - intro and state</td>\n",
       "      <td>2012-02-02</td>\n",
       "      <td></td>\n",
       "      <td>Adam Jenkins</td>\n",
       "      <td></td>\n",
       "      <td>Chicago Djangonauts</td>\n",
       "      <td>http://youtu.be/akAtm7SnzWg</td>\n",
       "    </tr>\n",
       "  </tbody>\n",
       "</table>\n",
       "</div>"
      ],
      "text/plain": [
       "                                              Title    Recorded  \\\n",
       "0  Boston Python Meetup: How to test the hard stuff        None   \n",
       "1  Boston Python Meetup: Testing: Where do I start?        None   \n",
       "2                       Consuming Tasks with Celery  2012-02-02   \n",
       "3                           Django Based Autocompl…  2015-09-03   \n",
       "4                   Django-nonrel - intro and state  2012-02-02   \n",
       "\n",
       "                                         Description         Speakers  \\\n",
       "0  How to Test the Hard Stuff\\n\\nPresented by Ste...  Stephan Richter   \n",
       "1  Testing, Where Do I Start?\\n\\nPresented by Mar...    Marshall Weir   \n",
       "2                                                        Joe Jasinski   \n",
       "3  Django does not do autocomplete out of the box...  Jonathan Bisson   \n",
       "4                                                        Adam Jenkins   \n",
       "\n",
       "                                   Tags              Category  \\\n",
       "0  bostonpy, session, testing, unittest  Boston Python Meetup   \n",
       "1  bostonpy, session, testing, unittest  Boston Python Meetup   \n",
       "2                       RabbitMQ Celery   Chicago Djangonauts   \n",
       "3                  autocomplete, Django   Chicago Djangonauts   \n",
       "4                                         Chicago Djangonauts   \n",
       "\n",
       "                    Source_url  \n",
       "0    http://vimeo.com/11980200  \n",
       "1    http://vimeo.com/11963043  \n",
       "2  http://youtu.be/MCmNGmFh6wE  \n",
       "3  http://youtu.be/XMp-wzzMsls  \n",
       "4  http://youtu.be/akAtm7SnzWg  "
      ]
     },
     "execution_count": 14,
     "metadata": {},
     "output_type": "execute_result"
    }
   ],
   "source": [
    "video.head()"
   ]
  },
  {
   "cell_type": "code",
   "execution_count": 15,
   "metadata": {
    "collapsed": false
   },
   "outputs": [
    {
     "name": "stdout",
     "output_type": "stream",
     "text": [
      "2008-01-01 2015-10-15\n"
     ]
    }
   ],
   "source": [
    "# Find the range of date of video recorded\n",
    "print (min([date for date in video[\"Recorded\"] if date != None])\n",
    "       ,max([date for date in video[\"Recorded\"] if date != None]))"
   ]
  },
  {
   "cell_type": "markdown",
   "metadata": {},
   "source": [
    "### Original videos websites"
   ]
  },
  {
   "cell_type": "code",
   "execution_count": 16,
   "metadata": {
    "collapsed": false
   },
   "outputs": [],
   "source": [
    "provider = []\n",
    "for i in range(len(video[\"Source_url\"])):\n",
    "    if video[\"Source_url\"][i] == \"\":\n",
    "        provider.append(None)\n",
    "    elif video[\"Source_url\"][i] == None :\n",
    "        provider.append(None)\n",
    "    else:\n",
    "        provider.append(video[\"Source_url\"][i].split(\"/\")[2])"
   ]
  },
  {
   "cell_type": "code",
   "execution_count": 17,
   "metadata": {
    "collapsed": false
   },
   "outputs": [
    {
     "data": {
      "text/plain": [
       "{'blip.tv',\n",
       " 'archive.org',\n",
       " 'www.youtube.com',\n",
       " 'youtu.be',\n",
       " 'vimeo.com',\n",
       " 'youtube.com',\n",
       " None,\n",
       " 'video.google.com'}"
      ]
     },
     "execution_count": 17,
     "metadata": {},
     "output_type": "execute_result"
    }
   ],
   "source": [
    "set(provider)"
   ]
  },
  {
   "cell_type": "code",
   "execution_count": 18,
   "metadata": {
    "collapsed": false
   },
   "outputs": [],
   "source": [
    "original = []\n",
    "for i in range(len(provider)):\n",
    "    if provider[i] in [\"youtu.be\",'www.youtube.com','youtube.com']:\n",
    "        original.append(\"YouTube\")\n",
    "    elif provider[i] == 'vimeo.com':\n",
    "        original.append(\"Vimeo\")\n",
    "    elif provider[i] == 'archive.org':\n",
    "        original.append(\"Internet Archive\")\n",
    "    elif provider[i] == 'blip.tv':\n",
    "        original.append(\"Bilp TV\")\n",
    "    elif provider[i] == 'video.google.com':\n",
    "        original.append(\"Google Video\")\n",
    "    else:\n",
    "        original.append(None)\n",
    "video[\"Original Website\"] = pd.Series(original)        "
   ]
  },
  {
   "cell_type": "code",
   "execution_count": 19,
   "metadata": {
    "collapsed": false
   },
   "outputs": [
    {
     "data": {
      "text/html": [
       "<div>\n",
       "<table border=\"1\" class=\"dataframe\">\n",
       "  <thead>\n",
       "    <tr style=\"text-align: right;\">\n",
       "      <th></th>\n",
       "      <th>Title</th>\n",
       "      <th>Recorded</th>\n",
       "      <th>Description</th>\n",
       "      <th>Speakers</th>\n",
       "      <th>Tags</th>\n",
       "      <th>Category</th>\n",
       "      <th>Source_url</th>\n",
       "      <th>Original Website</th>\n",
       "    </tr>\n",
       "  </thead>\n",
       "  <tbody>\n",
       "    <tr>\n",
       "      <th>count</th>\n",
       "      <td>3587</td>\n",
       "      <td>3142</td>\n",
       "      <td>3587</td>\n",
       "      <td>3587</td>\n",
       "      <td>3587</td>\n",
       "      <td>3587</td>\n",
       "      <td>3490</td>\n",
       "      <td>2904</td>\n",
       "    </tr>\n",
       "    <tr>\n",
       "      <th>unique</th>\n",
       "      <td>3447</td>\n",
       "      <td>206</td>\n",
       "      <td>1834</td>\n",
       "      <td>1851</td>\n",
       "      <td>862</td>\n",
       "      <td>72</td>\n",
       "      <td>2897</td>\n",
       "      <td>5</td>\n",
       "    </tr>\n",
       "    <tr>\n",
       "      <th>top</th>\n",
       "      <td>Lightning Talks</td>\n",
       "      <td>2010-02-19</td>\n",
       "      <td></td>\n",
       "      <td></td>\n",
       "      <td></td>\n",
       "      <td>EuroPython 2011</td>\n",
       "      <td></td>\n",
       "      <td>YouTube</td>\n",
       "    </tr>\n",
       "    <tr>\n",
       "      <th>freq</th>\n",
       "      <td>18</td>\n",
       "      <td>120</td>\n",
       "      <td>1641</td>\n",
       "      <td>599</td>\n",
       "      <td>1912</td>\n",
       "      <td>183</td>\n",
       "      <td>586</td>\n",
       "      <td>2826</td>\n",
       "    </tr>\n",
       "  </tbody>\n",
       "</table>\n",
       "</div>"
      ],
      "text/plain": [
       "                  Title    Recorded Description Speakers  Tags  \\\n",
       "count              3587        3142        3587     3587  3587   \n",
       "unique             3447         206        1834     1851   862   \n",
       "top     Lightning Talks  2010-02-19                              \n",
       "freq                 18         120        1641      599  1912   \n",
       "\n",
       "               Category Source_url Original Website  \n",
       "count              3587       3490             2904  \n",
       "unique               72       2897                5  \n",
       "top     EuroPython 2011                     YouTube  \n",
       "freq                183        586             2826  "
      ]
     },
     "execution_count": 19,
     "metadata": {},
     "output_type": "execute_result"
    }
   ],
   "source": [
    "video.describe()"
   ]
  },
  {
   "cell_type": "code",
   "execution_count": 20,
   "metadata": {
    "collapsed": false,
    "scrolled": true
   },
   "outputs": [
    {
     "data": {
      "text/html": [
       "<div>\n",
       "<table border=\"1\" class=\"dataframe\">\n",
       "  <thead>\n",
       "    <tr style=\"text-align: right;\">\n",
       "      <th></th>\n",
       "      <th>Title</th>\n",
       "      <th>Recorded</th>\n",
       "      <th>Description</th>\n",
       "      <th>Speakers</th>\n",
       "      <th>Tags</th>\n",
       "      <th>Category</th>\n",
       "      <th>Source_url</th>\n",
       "      <th>Original Website</th>\n",
       "    </tr>\n",
       "  </thead>\n",
       "  <tbody>\n",
       "    <tr>\n",
       "      <th>0</th>\n",
       "      <td>Boston Python Meetup: How to test the hard stuff</td>\n",
       "      <td>None</td>\n",
       "      <td>How to Test the Hard Stuff\\n\\nPresented by Ste...</td>\n",
       "      <td>Stephan Richter</td>\n",
       "      <td>bostonpy, session, testing, unittest</td>\n",
       "      <td>Boston Python Meetup</td>\n",
       "      <td>http://vimeo.com/11980200</td>\n",
       "      <td>Vimeo</td>\n",
       "    </tr>\n",
       "    <tr>\n",
       "      <th>1</th>\n",
       "      <td>Boston Python Meetup: Testing: Where do I start?</td>\n",
       "      <td>None</td>\n",
       "      <td>Testing, Where Do I Start?\\n\\nPresented by Mar...</td>\n",
       "      <td>Marshall Weir</td>\n",
       "      <td>bostonpy, session, testing, unittest</td>\n",
       "      <td>Boston Python Meetup</td>\n",
       "      <td>http://vimeo.com/11963043</td>\n",
       "      <td>Vimeo</td>\n",
       "    </tr>\n",
       "    <tr>\n",
       "      <th>2</th>\n",
       "      <td>Consuming Tasks with Celery</td>\n",
       "      <td>2012-02-02</td>\n",
       "      <td></td>\n",
       "      <td>Joe Jasinski</td>\n",
       "      <td>RabbitMQ Celery</td>\n",
       "      <td>Chicago Djangonauts</td>\n",
       "      <td>http://youtu.be/MCmNGmFh6wE</td>\n",
       "      <td>YouTube</td>\n",
       "    </tr>\n",
       "    <tr>\n",
       "      <th>3</th>\n",
       "      <td>Django Based Autocompl…</td>\n",
       "      <td>2015-09-03</td>\n",
       "      <td>Django does not do autocomplete out of the box...</td>\n",
       "      <td>Jonathan Bisson</td>\n",
       "      <td>autocomplete, Django</td>\n",
       "      <td>Chicago Djangonauts</td>\n",
       "      <td>http://youtu.be/XMp-wzzMsls</td>\n",
       "      <td>YouTube</td>\n",
       "    </tr>\n",
       "    <tr>\n",
       "      <th>4</th>\n",
       "      <td>Django-nonrel - intro and state</td>\n",
       "      <td>2012-02-02</td>\n",
       "      <td></td>\n",
       "      <td>Adam Jenkins</td>\n",
       "      <td></td>\n",
       "      <td>Chicago Djangonauts</td>\n",
       "      <td>http://youtu.be/akAtm7SnzWg</td>\n",
       "      <td>YouTube</td>\n",
       "    </tr>\n",
       "  </tbody>\n",
       "</table>\n",
       "</div>"
      ],
      "text/plain": [
       "                                              Title    Recorded  \\\n",
       "0  Boston Python Meetup: How to test the hard stuff        None   \n",
       "1  Boston Python Meetup: Testing: Where do I start?        None   \n",
       "2                       Consuming Tasks with Celery  2012-02-02   \n",
       "3                           Django Based Autocompl…  2015-09-03   \n",
       "4                   Django-nonrel - intro and state  2012-02-02   \n",
       "\n",
       "                                         Description         Speakers  \\\n",
       "0  How to Test the Hard Stuff\\n\\nPresented by Ste...  Stephan Richter   \n",
       "1  Testing, Where Do I Start?\\n\\nPresented by Mar...    Marshall Weir   \n",
       "2                                                        Joe Jasinski   \n",
       "3  Django does not do autocomplete out of the box...  Jonathan Bisson   \n",
       "4                                                        Adam Jenkins   \n",
       "\n",
       "                                   Tags              Category  \\\n",
       "0  bostonpy, session, testing, unittest  Boston Python Meetup   \n",
       "1  bostonpy, session, testing, unittest  Boston Python Meetup   \n",
       "2                       RabbitMQ Celery   Chicago Djangonauts   \n",
       "3                  autocomplete, Django   Chicago Djangonauts   \n",
       "4                                         Chicago Djangonauts   \n",
       "\n",
       "                    Source_url Original Website  \n",
       "0    http://vimeo.com/11980200            Vimeo  \n",
       "1    http://vimeo.com/11963043            Vimeo  \n",
       "2  http://youtu.be/MCmNGmFh6wE          YouTube  \n",
       "3  http://youtu.be/XMp-wzzMsls          YouTube  \n",
       "4  http://youtu.be/akAtm7SnzWg          YouTube  "
      ]
     },
     "execution_count": 20,
     "metadata": {},
     "output_type": "execute_result"
    }
   ],
   "source": [
    "video.head()"
   ]
  },
  {
   "cell_type": "code",
   "execution_count": 31,
   "metadata": {
    "collapsed": false
   },
   "outputs": [
    {
     "data": {
      "text/plain": [
       "Title                  Developing cutting-edge applications with PyQt\n",
       "Recorded                                                   2011-07-18\n",
       "Description         (Presented with Matteo Bertozzi)\\n\\nPython's h...\n",
       "Speakers                             Lorenzo Mancini, Matteo Bertozzi\n",
       "Tags                                deployment, distributed, pyqt, qt\n",
       "Category                                              EuroPython 2011\n",
       "Source_url                 http://www.youtube.com/watch?v=6ko-tO-3bJ0\n",
       "Original Website                                              YouTube\n",
       "Name: 500, dtype: object"
      ]
     },
     "execution_count": 31,
     "metadata": {},
     "output_type": "execute_result"
    }
   ],
   "source": [
    "# Check a single video information\n",
    "video.iloc[500]"
   ]
  },
  {
   "cell_type": "markdown",
   "metadata": {},
   "source": [
    "## Data Visualization"
   ]
  },
  {
   "cell_type": "markdown",
   "metadata": {},
   "source": [
    "### Wordcloud"
   ]
  },
  {
   "cell_type": "markdown",
   "metadata": {},
   "source": [
    "We will use **_wordcloud_** package to generate wordcloud for  **Title**, **Description** and **Tags**"
   ]
  },
  {
   "cell_type": "code",
   "execution_count": 32,
   "metadata": {
    "collapsed": true
   },
   "outputs": [],
   "source": [
    "import wordcloud as wc\n",
    "from scipy.misc import imread\n",
    "import re"
   ]
  },
  {
   "cell_type": "markdown",
   "metadata": {},
   "source": [
    "**MASK**\n",
    "![Image of Mask](http://puu.sh/owRnY/7b464d74bd.png)"
   ]
  },
  {
   "cell_type": "code",
   "execution_count": 33,
   "metadata": {
    "collapsed": true
   },
   "outputs": [],
   "source": [
    "def getwordcloud(name, stopwords):\n",
    "    more_stopwords = stopwords\n",
    "    words = []\n",
    "    for i in range(len(video[name])):\n",
    "        words += re.findall(r\"[\\w]+\", video[name][i])\n",
    "    text = \" \".join(words)\n",
    "    mask = imread(\"./image/python.png\")\n",
    "    wordcloud = wc.WordCloud(\n",
    "                      font_path='System/Library/Fonts/MarkerFelt.ttc',\n",
    "                      stopwords=wc.STOPWORDS.union(more_stopwords),\n",
    "                      background_color='white',\n",
    "                      width=1800,\n",
    "                      height=1400,\n",
    "                      mask = mask,\n",
    "                     ).generate(text)\n",
    "    plt.imshow(wordcloud)\n",
    "    plt.axis(\"off\")\n",
    "    plt.savefig('./image/wordcloud/%s_wordcloud_stopwords(%s).png' % (name,\",\".join(stopwords)), dpi=500)\n",
    "    plt.show()"
   ]
  },
  {
   "cell_type": "code",
   "execution_count": 100,
   "metadata": {
    "collapsed": false
   },
   "outputs": [
    {
     "data": {
      "image/png": "[encoded data removed]",
      "text/plain": [
       "<matplotlib.figure.Figure at 0x113c0a1d0>"
      ]
     },
     "metadata": {},
     "output_type": "display_data"
    },
    {
     "data": {
      "image/png": "[encoded data removed]",
      "text/plain": [
       "<matplotlib.figure.Figure at 0x11406d400>"
      ]
     },
     "metadata": {},
     "output_type": "display_data"
    },
    {
     "data": {
      "image/png": "[encoded data removed]",
      "text/plain": [
       "<matplotlib.figure.Figure at 0x1102def98>"
      ]
     },
     "metadata": {},
     "output_type": "display_data"
    },
    {
     "data": {
      "image/png": "[encoded data removed]",
      "text/plain": [
       "<matplotlib.figure.Figure at 0x115089fd0>"
      ]
     },
     "metadata": {},
     "output_type": "display_data"
    }
   ],
   "source": [
    "# What's the hottest topic?\n",
    "getwordcloud(\"Title\",{})\n",
    "getwordcloud(\"Title\",{\"Django\",\"django\",\"Python\",\"python\"})\n",
    "getwordcloud(\"Category\", {})\n",
    "getwordcloud(\"Tags\", {})"
   ]
  },
  {
   "cell_type": "markdown",
   "metadata": {},
   "source": [
    "### Top speakers"
   ]
  },
  {
   "cell_type": "code",
   "execution_count": 63,
   "metadata": {
    "collapsed": true
   },
   "outputs": [],
   "source": [
    "import plotly.plotly as py\n",
    "import plotly.graph_objs as go\n",
    "py.sign_in('shuwan', \"l21vebo6ki\")"
   ]
  },
  {
   "cell_type": "code",
   "execution_count": 55,
   "metadata": {
    "collapsed": false
   },
   "outputs": [],
   "source": [
    "speakers = []\n",
    "for i in range(len(video[\"Speakers\"])):\n",
    "    if video[\"Speakers\"][i] == \"\":\n",
    "        continue\n",
    "    else:\n",
    "        speakers += video[\"Speakers\"][i].split(\", \")\n",
    "topspeaker = pd.DataFrame(Counter(speakers).most_common(10),columns=[\"Speaker\",\"Count\"])"
   ]
  },
  {
   "cell_type": "code",
   "execution_count": 56,
   "metadata": {
    "collapsed": false
   },
   "outputs": [
    {
     "data": {
      "text/html": [
       "<div>\n",
       "<table border=\"1\" class=\"dataframe\">\n",
       "  <thead>\n",
       "    <tr style=\"text-align: right;\">\n",
       "      <th></th>\n",
       "      <th>Speaker</th>\n",
       "      <th>Count</th>\n",
       "    </tr>\n",
       "  </thead>\n",
       "  <tbody>\n",
       "    <tr>\n",
       "      <th>0</th>\n",
       "      <td>Brandon Rhodes</td>\n",
       "      <td>23</td>\n",
       "    </tr>\n",
       "    <tr>\n",
       "      <th>1</th>\n",
       "      <td>Raymond Hettinger</td>\n",
       "      <td>20</td>\n",
       "    </tr>\n",
       "    <tr>\n",
       "      <th>2</th>\n",
       "      <td>Alex Gaynor</td>\n",
       "      <td>19</td>\n",
       "    </tr>\n",
       "    <tr>\n",
       "      <th>3</th>\n",
       "      <td>David Beazley</td>\n",
       "      <td>15</td>\n",
       "    </tr>\n",
       "    <tr>\n",
       "      <th>4</th>\n",
       "      <td>Jessica McKellar</td>\n",
       "      <td>14</td>\n",
       "    </tr>\n",
       "    <tr>\n",
       "      <th>5</th>\n",
       "      <td>Mike Müller</td>\n",
       "      <td>13</td>\n",
       "    </tr>\n",
       "    <tr>\n",
       "      <th>6</th>\n",
       "      <td>Richard Jones</td>\n",
       "      <td>13</td>\n",
       "    </tr>\n",
       "    <tr>\n",
       "      <th>7</th>\n",
       "      <td>Fernando Pérez</td>\n",
       "      <td>13</td>\n",
       "    </tr>\n",
       "    <tr>\n",
       "      <th>8</th>\n",
       "      <td>Armin Rigo</td>\n",
       "      <td>12</td>\n",
       "    </tr>\n",
       "    <tr>\n",
       "      <th>9</th>\n",
       "      <td>Kenneth Reitz</td>\n",
       "      <td>11</td>\n",
       "    </tr>\n",
       "  </tbody>\n",
       "</table>\n",
       "</div>"
      ],
      "text/plain": [
       "             Speaker  Count\n",
       "0     Brandon Rhodes     23\n",
       "1  Raymond Hettinger     20\n",
       "2        Alex Gaynor     19\n",
       "3      David Beazley     15\n",
       "4   Jessica McKellar     14\n",
       "5        Mike Müller     13\n",
       "6      Richard Jones     13\n",
       "7     Fernando Pérez     13\n",
       "8         Armin Rigo     12\n",
       "9      Kenneth Reitz     11"
      ]
     },
     "execution_count": 56,
     "metadata": {},
     "output_type": "execute_result"
    }
   ],
   "source": [
    "topspeaker"
   ]
  },
  {
   "cell_type": "code",
   "execution_count": 178,
   "metadata": {
    "collapsed": false
   },
   "outputs": [
    {
     "data": {
      "text/html": [
       "<iframe id=\"igraph\" scrolling=\"no\" style=\"border:none;\" seamless=\"seamless\" src=\"https://plot.ly/~shuwan/89.embed\" height=\"525px\" width=\"100%\"></iframe>"
      ],
      "text/plain": [
       "<plotly.tools.PlotlyDisplay object>"
      ]
     },
     "execution_count": 178,
     "metadata": {},
     "output_type": "execute_result"
    }
   ],
   "source": [
    "data = [\n",
    "    go.Bar(\n",
    "        x=topspeaker[\"Speaker\"],\n",
    "        y=topspeaker[\"Count\"]\n",
    "    )\n",
    "]\n",
    "py.iplot(data, filename='top speaker')"
   ]
  },
  {
   "cell_type": "markdown",
   "metadata": {},
   "source": [
    "### Top Tags"
   ]
  },
  {
   "cell_type": "code",
   "execution_count": 59,
   "metadata": {
    "collapsed": true
   },
   "outputs": [],
   "source": [
    "tags = []\n",
    "for i in range(len(video[\"Tags\"])):\n",
    "    if video[\"Tags\"][i] == \"\":\n",
    "        continue\n",
    "    else:\n",
    "        tags += video[\"Tags\"][i].split(\", \")    \n",
    "toptags = pd.DataFrame(Counter(tags).most_common(10),columns=[\"Tags\",\"Count\"])"
   ]
  },
  {
   "cell_type": "code",
   "execution_count": 60,
   "metadata": {
    "collapsed": false
   },
   "outputs": [
    {
     "data": {
      "text/html": [
       "<div>\n",
       "<table border=\"1\" class=\"dataframe\">\n",
       "  <thead>\n",
       "    <tr style=\"text-align: right;\">\n",
       "      <th></th>\n",
       "      <th>Tags</th>\n",
       "      <th>Count</th>\n",
       "    </tr>\n",
       "  </thead>\n",
       "  <tbody>\n",
       "    <tr>\n",
       "      <th>0</th>\n",
       "      <td>pycon</td>\n",
       "      <td>316</td>\n",
       "    </tr>\n",
       "    <tr>\n",
       "      <th>1</th>\n",
       "      <td>talk</td>\n",
       "      <td>264</td>\n",
       "    </tr>\n",
       "    <tr>\n",
       "      <th>2</th>\n",
       "      <td>Tech</td>\n",
       "      <td>127</td>\n",
       "    </tr>\n",
       "    <tr>\n",
       "      <th>3</th>\n",
       "      <td>pycon2010</td>\n",
       "      <td>118</td>\n",
       "    </tr>\n",
       "    <tr>\n",
       "      <th>4</th>\n",
       "      <td>tutorial</td>\n",
       "      <td>108</td>\n",
       "    </tr>\n",
       "    <tr>\n",
       "      <th>5</th>\n",
       "      <td>djangocon</td>\n",
       "      <td>102</td>\n",
       "    </tr>\n",
       "    <tr>\n",
       "      <th>6</th>\n",
       "      <td>pycon2011</td>\n",
       "      <td>99</td>\n",
       "    </tr>\n",
       "    <tr>\n",
       "      <th>7</th>\n",
       "      <td>pycon2009</td>\n",
       "      <td>97</td>\n",
       "    </tr>\n",
       "    <tr>\n",
       "      <th>8</th>\n",
       "      <td>web</td>\n",
       "      <td>87</td>\n",
       "    </tr>\n",
       "    <tr>\n",
       "      <th>9</th>\n",
       "      <td>django</td>\n",
       "      <td>72</td>\n",
       "    </tr>\n",
       "  </tbody>\n",
       "</table>\n",
       "</div>"
      ],
      "text/plain": [
       "        Tags  Count\n",
       "0      pycon    316\n",
       "1       talk    264\n",
       "2       Tech    127\n",
       "3  pycon2010    118\n",
       "4   tutorial    108\n",
       "5  djangocon    102\n",
       "6  pycon2011     99\n",
       "7  pycon2009     97\n",
       "8        web     87\n",
       "9     django     72"
      ]
     },
     "execution_count": 60,
     "metadata": {},
     "output_type": "execute_result"
    }
   ],
   "source": [
    "toptags"
   ]
  },
  {
   "cell_type": "code",
   "execution_count": 64,
   "metadata": {
    "collapsed": false,
    "scrolled": false
   },
   "outputs": [
    {
     "data": {
      "text/html": [
       "<iframe id=\"igraph\" scrolling=\"no\" style=\"border:none;\" seamless=\"seamless\" src=\"https://plot.ly/~shuwan/91.embed\" height=\"525px\" width=\"100%\"></iframe>"
      ],
      "text/plain": [
       "<plotly.tools.PlotlyDisplay object>"
      ]
     },
     "execution_count": 64,
     "metadata": {},
     "output_type": "execute_result"
    }
   ],
   "source": [
    "data = [\n",
    "    go.Bar(\n",
    "        x=toptags[\"Tags\"],\n",
    "        y=toptags[\"Count\"]\n",
    "    )\n",
    "]\n",
    "py.iplot(data, filename='top tags')"
   ]
  },
  {
   "cell_type": "markdown",
   "metadata": {},
   "source": [
    "### Top Category"
   ]
  },
  {
   "cell_type": "code",
   "execution_count": 113,
   "metadata": {
    "collapsed": true
   },
   "outputs": [],
   "source": [
    "category = []\n",
    "for i in range(len(video[\"Category\"])):\n",
    "    if video[\"Category\"][i] in [\"\", None]:\n",
    "        continue\n",
    "    else:\n",
    "        category += video[\"Category\"][i].split(maxsplit = 0)    \n",
    "topcategory = pd.DataFrame(Counter(category).most_common(10),columns=[\"Category\",\"Count\"])"
   ]
  },
  {
   "cell_type": "code",
   "execution_count": 114,
   "metadata": {
    "collapsed": false
   },
   "outputs": [
    {
     "data": {
      "text/html": [
       "<div>\n",
       "<table border=\"1\" class=\"dataframe\">\n",
       "  <thead>\n",
       "    <tr style=\"text-align: right;\">\n",
       "      <th></th>\n",
       "      <th>Category</th>\n",
       "      <th>Count</th>\n",
       "    </tr>\n",
       "  </thead>\n",
       "  <tbody>\n",
       "    <tr>\n",
       "      <th>0</th>\n",
       "      <td>EuroPython 2011</td>\n",
       "      <td>183</td>\n",
       "    </tr>\n",
       "    <tr>\n",
       "      <th>1</th>\n",
       "      <td>PyCon US 2013</td>\n",
       "      <td>182</td>\n",
       "    </tr>\n",
       "    <tr>\n",
       "      <th>2</th>\n",
       "      <td>PyCon US 2012</td>\n",
       "      <td>161</td>\n",
       "    </tr>\n",
       "    <tr>\n",
       "      <th>3</th>\n",
       "      <td>PyCon US 2014</td>\n",
       "      <td>140</td>\n",
       "    </tr>\n",
       "    <tr>\n",
       "      <th>4</th>\n",
       "      <td>SciPy 2013</td>\n",
       "      <td>139</td>\n",
       "    </tr>\n",
       "    <tr>\n",
       "      <th>5</th>\n",
       "      <td>PyCon US 2015</td>\n",
       "      <td>134</td>\n",
       "    </tr>\n",
       "    <tr>\n",
       "      <th>6</th>\n",
       "      <td>SciPy 2014</td>\n",
       "      <td>123</td>\n",
       "    </tr>\n",
       "    <tr>\n",
       "      <th>7</th>\n",
       "      <td>EuroPython 2014</td>\n",
       "      <td>120</td>\n",
       "    </tr>\n",
       "    <tr>\n",
       "      <th>8</th>\n",
       "      <td>PyCon US 2010</td>\n",
       "      <td>120</td>\n",
       "    </tr>\n",
       "    <tr>\n",
       "      <th>9</th>\n",
       "      <td>PyCon US 2009</td>\n",
       "      <td>100</td>\n",
       "    </tr>\n",
       "  </tbody>\n",
       "</table>\n",
       "</div>"
      ],
      "text/plain": [
       "          Category  Count\n",
       "0  EuroPython 2011    183\n",
       "1    PyCon US 2013    182\n",
       "2    PyCon US 2012    161\n",
       "3    PyCon US 2014    140\n",
       "4       SciPy 2013    139\n",
       "5    PyCon US 2015    134\n",
       "6       SciPy 2014    123\n",
       "7  EuroPython 2014    120\n",
       "8    PyCon US 2010    120\n",
       "9    PyCon US 2009    100"
      ]
     },
     "execution_count": 114,
     "metadata": {},
     "output_type": "execute_result"
    }
   ],
   "source": [
    "topcategory"
   ]
  },
  {
   "cell_type": "code",
   "execution_count": 116,
   "metadata": {
    "collapsed": false,
    "scrolled": false
   },
   "outputs": [
    {
     "data": {
      "text/html": [
       "<iframe id=\"igraph\" scrolling=\"no\" style=\"border:none;\" seamless=\"seamless\" src=\"https://plot.ly/~shuwan/95.embed\" height=\"525px\" width=\"100%\"></iframe>"
      ],
      "text/plain": [
       "<plotly.tools.PlotlyDisplay object>"
      ]
     },
     "execution_count": 116,
     "metadata": {},
     "output_type": "execute_result"
    }
   ],
   "source": [
    "data = [\n",
    "    go.Bar(\n",
    "        x=topcategory.Category,\n",
    "        y=topcategory.Count\n",
    "    )\n",
    "]\n",
    "py.iplot(data, filename='top category')"
   ]
  },
  {
   "cell_type": "markdown",
   "metadata": {},
   "source": [
    "### Videos distribution over time"
   ]
  },
  {
   "cell_type": "code",
   "execution_count": 98,
   "metadata": {
    "collapsed": false
   },
   "outputs": [],
   "source": [
    "timetable = pd.DataFrame.from_dict(Counter(video[\"Recorded\"]), orient='index').reset_index()\n",
    "timetable.columns = [\"Time\", \"Count\"]\n",
    "timetable = timetable[timetable.Count != None]\n",
    "timetable = timetable.sort_values(\"Time\")"
   ]
  },
  {
   "cell_type": "code",
   "execution_count": 99,
   "metadata": {
    "collapsed": false,
    "scrolled": false
   },
   "outputs": [
    {
     "data": {
      "text/html": [
       "<iframe id=\"igraph\" scrolling=\"no\" style=\"border:none;\" seamless=\"seamless\" src=\"https://plot.ly/~shuwan/93.embed\" height=\"525px\" width=\"100%\"></iframe>"
      ],
      "text/plain": [
       "<plotly.tools.PlotlyDisplay object>"
      ]
     },
     "execution_count": 99,
     "metadata": {},
     "output_type": "execute_result"
    }
   ],
   "source": [
    "data = [\n",
    "    go.Scatter(\n",
    "        x=timetable.Time,\n",
    "        y=timetable.Count\n",
    "    )\n",
    "]\n",
    "py.iplot(data, filename='Pyvideo distribution over time')"
   ]
  },
  {
   "cell_type": "markdown",
   "metadata": {},
   "source": [
    "## A Simple Recommendation System"
   ]
  },
  {
   "cell_type": "markdown",
   "metadata": {},
   "source": [
    "There are 8 attributes in our video dataframe. When we do recommendations we only consider the content of the videos. Hence, attributes like *__Source_url__* and *__Original Website__* are irrelevant attributes in our recommendation system. Here *__Recorded__* is not excluded is because when other conditions are the same, we are more interested in the latest video. \n",
    "\n",
    "The rest attributes are all descriptive attributes. Some of the attributes are strongly related. For example, *__Tags__* and *__Category__* are strongly related.\n",
    "\n",
    "Since all attributes are descriptive, we need to extract the key words of each attributes. First, we need to filter some meaningless words, like *__a, you, and, for, with__* and in our case *__python__*.\n",
    "\n",
    "We will use *__stopwords list__* from *__NLTK__* package to filter meaningless words."
   ]
  },
  {
   "cell_type": "code",
   "execution_count": 40,
   "metadata": {
    "collapsed": true
   },
   "outputs": [],
   "source": [
    "import nltk\n",
    "from nltk.corpus import stopwords"
   ]
  },
  {
   "cell_type": "code",
   "execution_count": 41,
   "metadata": {
    "collapsed": false
   },
   "outputs": [],
   "source": [
    "keyword = len(video)*[1]\n",
    "for i in range(len(video)):\n",
    "    key = []\n",
    "    for j in range(4):\n",
    "        key += re.findall(r\"[\\w]+\", video.iloc[i][[\"Title\",\"Description\",\"Tags\",\"Category\",\"Speakers\",\"Recorded\"]][j])\n",
    "    keyword[i] = list(set([word for word in key if word not in stopwords.words(\"english\")]))\n",
    "keyword = pd.Series(keyword,name=\"Keyword\")"
   ]
  },
  {
   "cell_type": "code",
   "execution_count": 42,
   "metadata": {
    "collapsed": true
   },
   "outputs": [],
   "source": [
    "def extractkey(key):\n",
    "    keylist = []\n",
    "    for i in range(len(videopath)):\n",
    "        with open(videopath[i]) as json_data:\n",
    "            keylist.append(json.load(json_data)[key])\n",
    "    return pd.Series(keylist, name = key.capitalize())"
   ]
  },
  {
   "cell_type": "code",
   "execution_count": 43,
   "metadata": {
    "collapsed": false
   },
   "outputs": [],
   "source": [
    "videoRecommend = pd.concat([keyword, extractkey(\"speakers\"),extractkey(\"recorded\")],axis=1)"
   ]
  },
  {
   "cell_type": "code",
   "execution_count": 44,
   "metadata": {
    "collapsed": true
   },
   "outputs": [],
   "source": [
    "for i in range(len(videoRecommend)):\n",
    "    for j in range(2):\n",
    "        if videoRecommend.iloc[i][j] == None:\n",
    "            videoRecommend.iloc[i][j] == []"
   ]
  },
  {
   "cell_type": "code",
   "execution_count": 45,
   "metadata": {
    "collapsed": false
   },
   "outputs": [
    {
     "data": {
      "text/html": [
       "<div>\n",
       "<table border=\"1\" class=\"dataframe\">\n",
       "  <thead>\n",
       "    <tr style=\"text-align: right;\">\n",
       "      <th></th>\n",
       "      <th>Keyword</th>\n",
       "      <th>Speakers</th>\n",
       "      <th>Recorded</th>\n",
       "    </tr>\n",
       "  </thead>\n",
       "  <tbody>\n",
       "    <tr>\n",
       "      <th>0</th>\n",
       "      <td>[projects, doctest, may, sort, 2010, well, Tes...</td>\n",
       "      <td>[Stephan Richter]</td>\n",
       "      <td>None</td>\n",
       "    </tr>\n",
       "    <tr>\n",
       "      <th>1</th>\n",
       "      <td>[projects, He, 2010, start, unittest, move, kn...</td>\n",
       "      <td>[Marshall Weir]</td>\n",
       "      <td>None</td>\n",
       "    </tr>\n",
       "    <tr>\n",
       "      <th>2</th>\n",
       "      <td>[Tasks, Celery, Chicago, RabbitMQ, Consuming, ...</td>\n",
       "      <td>[Joe Jasinski]</td>\n",
       "      <td>2012-02-02</td>\n",
       "    </tr>\n",
       "  </tbody>\n",
       "</table>\n",
       "</div>"
      ],
      "text/plain": [
       "                                             Keyword           Speakers  \\\n",
       "0  [projects, doctest, may, sort, 2010, well, Tes...  [Stephan Richter]   \n",
       "1  [projects, He, 2010, start, unittest, move, kn...    [Marshall Weir]   \n",
       "2  [Tasks, Celery, Chicago, RabbitMQ, Consuming, ...     [Joe Jasinski]   \n",
       "\n",
       "     Recorded  \n",
       "0        None  \n",
       "1        None  \n",
       "2  2012-02-02  "
      ]
     },
     "execution_count": 45,
     "metadata": {},
     "output_type": "execute_result"
    }
   ],
   "source": [
    "videoRecommend.head(3)"
   ]
  },
  {
   "cell_type": "code",
   "execution_count": 46,
   "metadata": {
    "collapsed": true
   },
   "outputs": [],
   "source": [
    "def getRecommend(idx, number):\n",
    "    \n",
    "    keywordScore = []\n",
    "    speakerScore = []\n",
    "    totalScore = []\n",
    "    \n",
    "    candidate = videoRecommend\n",
    "    candidate = candidate.drop(idx)\n",
    "    \n",
    "    for i in candidate.index:\n",
    "        keywordScore.append(len(set(videoRecommend[\"Keyword\"][idx]) & set(candidate[\"Keyword\"][i])))\n",
    "    for i in candidate.index:\n",
    "        speakerScore.append(len(set(videoRecommend[\"Speakers\"][idx]) & set(candidate[\"Speakers\"][i])))\n",
    "    totalScore = keywordScore + speakerScore\n",
    "    top = sorted(totalScore, reverse=True)[:number]\n",
    "    \n",
    "    totalScore = pd.Series(totalScore, name = \"Total Score\")\n",
    "    Recommend = pd.concat([pd.Series(candidate.index, name = \"Index\"),totalScore,candidate[\"Recorded\"]],axis =1)\n",
    "    Recommend = Recommend.sort_values([\"Total Score\",\"Recorded\"], ascending = False)\n",
    "    return Recommend[:number]"
   ]
  },
  {
   "cell_type": "code",
   "execution_count": 49,
   "metadata": {
    "collapsed": false
   },
   "outputs": [
    {
     "data": {
      "text/html": [
       "<div>\n",
       "<table border=\"1\" class=\"dataframe\">\n",
       "  <thead>\n",
       "    <tr style=\"text-align: right;\">\n",
       "      <th></th>\n",
       "      <th>Index</th>\n",
       "      <th>Total Score</th>\n",
       "      <th>Recorded</th>\n",
       "    </tr>\n",
       "  </thead>\n",
       "  <tbody>\n",
       "    <tr>\n",
       "      <th>230</th>\n",
       "      <td>230.0</td>\n",
       "      <td>10</td>\n",
       "      <td>2012-09-06</td>\n",
       "    </tr>\n",
       "    <tr>\n",
       "      <th>1234</th>\n",
       "      <td>1235.0</td>\n",
       "      <td>10</td>\n",
       "      <td>NaN</td>\n",
       "    </tr>\n",
       "    <tr>\n",
       "      <th>1291</th>\n",
       "      <td>1292.0</td>\n",
       "      <td>9</td>\n",
       "      <td>2015-08-04</td>\n",
       "    </tr>\n",
       "    <tr>\n",
       "      <th>949</th>\n",
       "      <td>949.0</td>\n",
       "      <td>9</td>\n",
       "      <td>2014-09-13</td>\n",
       "    </tr>\n",
       "    <tr>\n",
       "      <th>1190</th>\n",
       "      <td>1190.0</td>\n",
       "      <td>9</td>\n",
       "      <td>2014-08-11</td>\n",
       "    </tr>\n",
       "  </tbody>\n",
       "</table>\n",
       "</div>"
      ],
      "text/plain": [
       "       Index  Total Score    Recorded\n",
       "230    230.0           10  2012-09-06\n",
       "1234  1235.0           10         NaN\n",
       "1291  1292.0            9  2015-08-04\n",
       "949    949.0            9  2014-09-13\n",
       "1190  1190.0            9  2014-08-11"
      ]
     },
     "execution_count": 49,
     "metadata": {},
     "output_type": "execute_result"
    }
   ],
   "source": [
    "getRecommend(1234, 5)"
   ]
  },
  {
   "cell_type": "code",
   "execution_count": 50,
   "metadata": {
    "collapsed": false,
    "scrolled": true
   },
   "outputs": [
    {
     "data": {
      "text/plain": [
       "Title                               About Django from the Pyramid Guy\n",
       "Recorded                                                   2012-09-06\n",
       "Description         # About Django from the Pyramid Guy\\n\\n## Who ...\n",
       "Speakers                                              Chris McDonough\n",
       "Tags                                                           django\n",
       "Category                                               DjangoCon 2012\n",
       "Source_url                 http://www.youtube.com/watch?v=eN7h6ZbzMy0\n",
       "Original Website                                              YouTube\n",
       "Name: 230, dtype: object"
      ]
     },
     "execution_count": 50,
     "metadata": {},
     "output_type": "execute_result"
    }
   ],
   "source": [
    "video.iloc[230]"
   ]
  },
  {
   "cell_type": "markdown",
   "metadata": {},
   "source": [
    "## Improvements"
   ]
  },
  {
   "cell_type": "markdown",
   "metadata": {},
   "source": [
    "*__NTLK__* package currently does not support Chinese. But from the database, I found several videos recoreded from the *__Pycon TW__*, which are using *__Traditional Chinses__*. "
   ]
  }
 ],
 "metadata": {
  "kernelspec": {
   "display_name": "Python 3",
   "language": "python",
   "name": "python3"
  },
  "language_info": {
   "codemirror_mode": {
    "name": "ipython",
    "version": 3
   },
   "file_extension": ".py",
   "mimetype": "text/x-python",
   "name": "python",
   "nbconvert_exporter": "python",
   "pygments_lexer": "ipython3",
   "version": "3.5.1"
  },
  "widgets": {
   "state": {},
   "version": "1.0.0"
  }
 },
 "nbformat": 4,
 "nbformat_minor": 0
}
